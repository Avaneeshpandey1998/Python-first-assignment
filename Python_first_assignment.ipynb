{
  "nbformat": 4,
  "nbformat_minor": 0,
  "metadata": {
    "colab": {
      "provenance": []
    },
    "kernelspec": {
      "name": "python3",
      "display_name": "Python 3"
    },
    "language_info": {
      "name": "python"
    }
  },
  "cells": [
    {
      "cell_type": "code",
      "execution_count": null,
      "metadata": {
        "id": "EgwqEZH8RGtt"
      },
      "outputs": [],
      "source": [
        "\n",
        "\n",
        "\n",
        "\n"
      ]
    },
    {
      "cell_type": "markdown",
      "source": [
        "#Question 1.Explain the key features of Python that make it a popular choice for programming.\n",
        "'''Answer 1.  Python has many features that make it very popular . Some features are\n",
        "1.Free and open Source\n",
        "2.Object Oriented Language\n",
        "3.Large Community Support\n",
        "4.Portable Language\n",
        "5.Large Standard Library\n",
        "6.Frontend and Backend development\n",
        "1.Free and open Source:-\n",
        "    Python is freely available on google and its website. Any person downloads from google. Also it is an open source means its code is available to the public.\n",
        "2.Object Oriented Language:-\n",
        "    Python is an object oriented language it means concepts of class in python and concepts of objects in python.\n",
        "3.Large Community support:-\n",
        "    Python is a very popular language and currently 500+ companies use the python language.So it has large community support.\n",
        "4.Portable Language:-\n",
        "    Python is a portable language. It means if we write a python program for windows and i want to run this code in Mac, Unix and Linux then we do not need to change this code. We run this code on any plateform.\n",
        "5.Large Standard Library:-  \n",
        "    It has a large standard library that provides a rich set of modules and functions so you do no have to write your own code for every single thing. There are many libraries present in Python.\n",
        "6.Frontend and Backend Development:-\n",
        "    If we work on a new project then we write python codes in HTML with the help of <py.script>. This will help you do fronted development work in python.'''\n"
      ],
      "metadata": {
        "id": "XsEHu_OsUeEl"
      }
    },
    {
      "cell_type": "markdown",
      "source": [
        "Question 2.Describe the Role of predefined keywords in Python and provide examples of how they are used in a program.\n",
        "Answer 2.\n",
        "                Python keywords cannot be used as identifiers. All the keywords in Python should be in lowercase except True and False.\n",
        "Some keywords are- and, or, if, elif, else, for, while, True, False.\n"
      ],
      "metadata": {
        "id": "PkyX58WsWSOD"
      }
    },
    {
      "cell_type": "code",
      "source": [
        " #and\n",
        " print(True and False )"
      ],
      "metadata": {
        "colab": {
          "base_uri": "https://localhost:8080/"
        },
        "id": "jbUz7qMRT9UY",
        "outputId": "0555889e-aabd-4ee4-8005-5d80f5b2f60a"
      },
      "execution_count": 1,
      "outputs": [
        {
          "output_type": "stream",
          "name": "stdout",
          "text": [
            "False\n"
          ]
        }
      ]
    },
    {
      "cell_type": "code",
      "source": [
        "#or\n",
        " print(True or False)\n",
        "\n"
      ],
      "metadata": {
        "colab": {
          "base_uri": "https://localhost:8080/"
        },
        "id": "qQR7tUHJUOcT",
        "outputId": "6413df88-ef3c-471b-abe6-38bc6d2d14f2"
      },
      "execution_count": 2,
      "outputs": [
        {
          "output_type": "stream",
          "name": "stdout",
          "text": [
            "True\n"
          ]
        }
      ]
    },
    {
      "cell_type": "markdown",
      "source": [],
      "metadata": {
        "id": "0pVo83rEUW8x"
      }
    },
    {
      "cell_type": "code",
      "source": [
        "#if & else\n",
        "\n",
        "a = 5\n",
        "b = 5\n",
        "if b>a:\n",
        "  print(\"b is greater than a\")\n",
        "elif a ==b:\n",
        "  print(\"a & b are equal\")"
      ],
      "metadata": {
        "colab": {
          "base_uri": "https://localhost:8080/"
        },
        "id": "lX6OCShWU1Z2",
        "outputId": "7b9af30d-d712-4d99-f5b7-d666e626d71b"
      },
      "execution_count": 3,
      "outputs": [
        {
          "output_type": "stream",
          "name": "stdout",
          "text": [
            "a & b are equal\n"
          ]
        }
      ]
    },
    {
      "cell_type": "markdown",
      "source": [],
      "metadata": {
        "id": "QZBxYtGuUZIn"
      }
    },
    {
      "cell_type": "code",
      "source": [
        "#for\n",
        "fruits = [\"apple\",\"banana\",\"mango\"]\n",
        "for x in fruits:\n",
        "  print(x)"
      ],
      "metadata": {
        "colab": {
          "base_uri": "https://localhost:8080/"
        },
        "id": "9nsCGiBnVV5s",
        "outputId": "ec138781-e28b-4fcc-bebb-3b3fff984c70"
      },
      "execution_count": 4,
      "outputs": [
        {
          "output_type": "stream",
          "name": "stdout",
          "text": [
            "apple\n",
            "banana\n",
            "mango\n"
          ]
        }
      ]
    },
    {
      "cell_type": "code",
      "source": [
        "#while\n",
        "i = 1\n",
        "while i<3:\n",
        "  print(\"PWSKILLS\")\n",
        "  i = i+1"
      ],
      "metadata": {
        "colab": {
          "base_uri": "https://localhost:8080/"
        },
        "id": "hBSwFXBkVyQN",
        "outputId": "d5f7ca23-6ffb-4fa3-8ae7-3f6ad5be497c"
      },
      "execution_count": 5,
      "outputs": [
        {
          "output_type": "stream",
          "name": "stdout",
          "text": [
            "PWSKILLS\n",
            "PWSKILLS\n"
          ]
        }
      ]
    },
    {
      "cell_type": "markdown",
      "source": [
        "Question 3.Compare and contrast mutable and immutable objects in Python with examples.\n",
        "Answer- When we write a code in Python then we clearly understand the difference between mutable and immutable objects.\n",
        "Mutable Objects:- In the python language , mutable objects are those that can be modified in place. In simple words mutable objects are changeable. Mutable objects are changed without creating new objects.\n"
      ],
      "metadata": {
        "id": "yrzBfPkKWvMQ"
      }
    },
    {
      "cell_type": "code",
      "source": [
        "x = [1,2,3]\n",
        "x.append(4)\n",
        "print(x)"
      ],
      "metadata": {
        "colab": {
          "base_uri": "https://localhost:8080/"
        },
        "id": "RBYBpsHuW1IN",
        "outputId": "80b22ba9-d177-413a-9204-59edf4db5b32"
      },
      "execution_count": 6,
      "outputs": [
        {
          "output_type": "stream",
          "name": "stdout",
          "text": [
            "[1, 2, 3, 4]\n"
          ]
        }
      ]
    },
    {
      "cell_type": "markdown",
      "source": [
        " Immutable Objects:-\n",
        "                                    Immutable objects are of in-built datatype like int, float, tuple and etc.In simple word immutable words can not change.\n"
      ],
      "metadata": {
        "id": "lun7UEKdXDjt"
      }
    },
    {
      "cell_type": "code",
      "source": [
        "tuple(1,2,3)\n",
        "tuple(0)\n",
        "print(tuple)"
      ],
      "metadata": {
        "colab": {
          "base_uri": "https://localhost:8080/",
          "height": 176
        },
        "id": "8fO7wE30XUEk",
        "outputId": "0832c679-ad1d-4000-f99a-b7e54415b9ae"
      },
      "execution_count": 7,
      "outputs": [
        {
          "output_type": "error",
          "ename": "TypeError",
          "evalue": "tuple expected at most 1 argument, got 3",
          "traceback": [
            "\u001b[0;31m---------------------------------------------------------------------------\u001b[0m",
            "\u001b[0;31mTypeError\u001b[0m                                 Traceback (most recent call last)",
            "\u001b[0;32m<ipython-input-7-e545b1348900>\u001b[0m in \u001b[0;36m<cell line: 1>\u001b[0;34m()\u001b[0m\n\u001b[0;32m----> 1\u001b[0;31m \u001b[0mtuple\u001b[0m\u001b[0;34m(\u001b[0m\u001b[0;36m1\u001b[0m\u001b[0;34m,\u001b[0m\u001b[0;36m2\u001b[0m\u001b[0;34m,\u001b[0m\u001b[0;36m3\u001b[0m\u001b[0;34m)\u001b[0m\u001b[0;34m\u001b[0m\u001b[0;34m\u001b[0m\u001b[0m\n\u001b[0m\u001b[1;32m      2\u001b[0m \u001b[0mtuple\u001b[0m\u001b[0;34m(\u001b[0m\u001b[0;36m0\u001b[0m\u001b[0;34m)\u001b[0m\u001b[0;34m\u001b[0m\u001b[0;34m\u001b[0m\u001b[0m\n\u001b[1;32m      3\u001b[0m \u001b[0mprint\u001b[0m\u001b[0;34m(\u001b[0m\u001b[0mtuple\u001b[0m\u001b[0;34m)\u001b[0m\u001b[0;34m\u001b[0m\u001b[0;34m\u001b[0m\u001b[0m\n",
            "\u001b[0;31mTypeError\u001b[0m: tuple expected at most 1 argument, got 3"
          ]
        }
      ]
    },
    {
      "cell_type": "markdown",
      "source": [
        "Question 4. Discuss the different types of operators in Python and provide examples of how they are used.\n",
        "Answer- Different types of operators are in Python.\n",
        "Arithmetic Operators\n",
        "Comparison Operators\n",
        "Assignment Operators\n",
        "Logical  Operators\n",
        "Bitwise Operators\n",
        "Special Operators\n"
      ],
      "metadata": {
        "id": "X5WbFdd0YB8r"
      }
    },
    {
      "cell_type": "code",
      "source": [
        "#1.Arithmetic Operators:- This type of operators are used for mathematical operations like addition, subtraction, multiplication, etc.\n",
        "a = 3\n",
        "b = 2\n",
        "#addition\n",
        "print('sum', a+b)\n",
        "#substraction\n",
        "print('sub', a-b)\n",
        "#multiplication\n",
        "print('mul', a*b)\n",
        "#division\n",
        "print('div', a/b)"
      ],
      "metadata": {
        "colab": {
          "base_uri": "https://localhost:8080/"
        },
        "id": "jr9Uzxd2YIjm",
        "outputId": "52f55c9f-934e-4520-9daf-74a105069fb9"
      },
      "execution_count": 8,
      "outputs": [
        {
          "output_type": "stream",
          "name": "stdout",
          "text": [
            "sum 5\n",
            "sub 1\n",
            "mul 6\n",
            "div 1.5\n"
          ]
        }
      ]
    },
    {
      "cell_type": "code",
      "source": [
        "#2.Comparison Operators:- These operators compare two values and return a boolean result.Operators are ==, !=, >, <,\n",
        "x = 3\n",
        "y = 5\n",
        "print(x<y)"
      ],
      "metadata": {
        "colab": {
          "base_uri": "https://localhost:8080/"
        },
        "id": "kLOZdfJJZCuT",
        "outputId": "47df864f-11d8-454b-aa32-7d58a1d4e985"
      },
      "execution_count": 9,
      "outputs": [
        {
          "output_type": "stream",
          "name": "stdout",
          "text": [
            "True\n"
          ]
        }
      ]
    },
    {
      "cell_type": "code",
      "source": [
        "#3.Assignment Operators:- These operators are used to assign values to variables.The operators are =, +=, -=, etc.\n",
        "a = 10\n",
        "b = 5\n",
        "a += b\n",
        "print(a)"
      ],
      "metadata": {
        "colab": {
          "base_uri": "https://localhost:8080/"
        },
        "id": "YtN-NdP4Zcmr",
        "outputId": "ccba2e1b-f01f-4824-e844-b2caa15dc255"
      },
      "execution_count": 10,
      "outputs": [
        {
          "output_type": "stream",
          "name": "stdout",
          "text": [
            "15\n"
          ]
        }
      ]
    },
    {
      "cell_type": "code",
      "source": [
        "#4.Logical Operators:- These operators are used to check whether an expression is True or False. They are used in decision-making. Some operators are and, or, not,etc.\n",
        "a = 4\n",
        "b = 7\n",
        "print(a>3 and b<=7)"
      ],
      "metadata": {
        "colab": {
          "base_uri": "https://localhost:8080/"
        },
        "id": "pK8fXSn1Z3s-",
        "outputId": "2ec7ca55-f5f8-4fed-ccbc-e82b0190f88c"
      },
      "execution_count": 11,
      "outputs": [
        {
          "output_type": "stream",
          "name": "stdout",
          "text": [
            "True\n"
          ]
        }
      ]
    },
    {
      "cell_type": "markdown",
      "source": [
        "5.Bitwise Operators:-\n",
        "                    These operators act on operands as if they were strings of binary digits. They operate bit by bit, hence the name. Some bitwise operators are &, |, ~, ^, etc.\n"
      ],
      "metadata": {
        "id": "ift2nSU9aMjN"
      }
    },
    {
      "cell_type": "code",
      "source": [
        "#6.Special Operators:- In the Python language some special types of operators like the Identity and Membership operator.Some special operators are is, is not, in, etc.\n",
        "x = 3\n",
        "y = 3\n",
        "x1 = \"hello\"\n",
        "y1 = \"hello\"\n",
        "x2 = [1,2,3]\n",
        "y2 = [1,2,3]\n",
        "print(x is not y)\n",
        "print(x1 is y1)\n",
        "print(x2 is y2)"
      ],
      "metadata": {
        "colab": {
          "base_uri": "https://localhost:8080/"
        },
        "id": "3ugDgzcpaYUa",
        "outputId": "0054beec-9b8c-4fcd-9d71-51085b7aa67b"
      },
      "execution_count": 12,
      "outputs": [
        {
          "output_type": "stream",
          "name": "stdout",
          "text": [
            "False\n",
            "True\n",
            "False\n"
          ]
        }
      ]
    },
    {
      "cell_type": "markdown",
      "source": [
        "Question 5. Explain the concept of typecasting in Python with examples.\n",
        "Answer:- Typecasting in python allows programmers to convert variables or data from one data type to another. Typecasting in Python can be useful in dealing with large data sets where the data is present in different data types.Python offers two ways to perform typecasting.\n",
        "Implicit type conversion\n",
        "Explicit type conversion\n"
      ],
      "metadata": {
        "id": "lphkJM8pbEda"
      }
    },
    {
      "cell_type": "code",
      "source": [
        "#1.Implicit type conversion:- This type of typecasting is automatically performed. During implicit type conversion , the user is not supposed to mention any specific data type during the conversion.\n",
        "integer_number = 156\n",
        "float_number = 1.56\n",
        "new_number = integer_number + float_number\n",
        "print(\"value:\", new_number)\n",
        "print(\"Data Type:\",type(new_number))"
      ],
      "metadata": {
        "colab": {
          "base_uri": "https://localhost:8080/"
        },
        "id": "PxYrXK3IbF_F",
        "outputId": "50d46009-b96f-4f7a-88ce-d4ab8e2c23a7"
      },
      "execution_count": 19,
      "outputs": [
        {
          "output_type": "stream",
          "name": "stdout",
          "text": [
            "value: 157.56\n",
            "Data Type: <class 'float'>\n"
          ]
        }
      ]
    },
    {
      "cell_type": "code",
      "source": [
        "#2.Explicit type conversion:- This type of typecasting is the data type of a variable using the in-built functions. In this type of conversion in python,the user is supposed to pass the value in a function to obtain the required data type.\n",
        "num_string = \"12\"\n",
        "num_integer = 13\n",
        "print(\"Data type of num_string before type casting:\", type(num_string))\n",
        "num_string = int(num_string)\n",
        "print(\"Data type of num_string before type casting:\", type(num_string))\n",
        "num_sum = num_integer + num_string\n",
        "print(\"sum:\", num_sum)\n",
        "print(\"Data type of num_sum:\", type(num_sum))"
      ],
      "metadata": {
        "colab": {
          "base_uri": "https://localhost:8080/"
        },
        "id": "9FUiYbb5cegw",
        "outputId": "15d8c22b-b09f-4b12-c4a5-29ea4f9afa06"
      },
      "execution_count": 23,
      "outputs": [
        {
          "output_type": "stream",
          "name": "stdout",
          "text": [
            "Data type of num_string before type casting: <class 'str'>\n",
            "Data type of num_string before type casting: <class 'int'>\n",
            "sum: 25\n",
            "Data type of num_sum: <class 'int'>\n"
          ]
        }
      ]
    },
    {
      "cell_type": "markdown",
      "source": [
        "Question-6. How do conditional statements work in Python? Illustrate with examples.\n",
        "Answer:- In the conditional statement in Python, Firstly when we write a code and run the code then they firstly read the if statement and if this statement is true then they are given an output. But if the condition is wrong then they read the elif statement and if this condition is true then they are given an output otherwise they read the else statement. And if this statement is true then they are given an output."
      ],
      "metadata": {
        "id": "qYCZMMaEe4Z-"
      }
    },
    {
      "cell_type": "code",
      "source": [
        "a = int(input(\"Enter your age\"))\n",
        "print(\"your age is:\",a)\n",
        "if(a>18):\n",
        "  print(\"you can drive\")\n",
        "else:\n",
        "  print(\"you can not drive\")"
      ],
      "metadata": {
        "colab": {
          "base_uri": "https://localhost:8080/"
        },
        "id": "DT42VNfde5qO",
        "outputId": "1056177a-aa07-451b-eb3b-8373bc4534d2"
      },
      "execution_count": 24,
      "outputs": [
        {
          "output_type": "stream",
          "name": "stdout",
          "text": [
            "Enter your age22\n",
            "your age is: 22\n",
            "you can drive\n"
          ]
        }
      ]
    },
    {
      "cell_type": "markdown",
      "source": [
        "Question-7. Describe the different types of loops in Python and their use cases with examples.\n",
        "Answer:- Python has two primary types of loops: First is for loops and second is while loops, which can be used to automate repetitive tasks, iterate over data structures, and build more complex algorithms efficiently.\n"
      ],
      "metadata": {
        "id": "chqVbBtqfawZ"
      }
    },
    {
      "cell_type": "code",
      "source": [
        "#For Loop:- A For Loop in Python is used to iterate over a sequence (list, tuple, set, dictionary and string).\n",
        "x = [\"python\",\"PWskills\",\"Tutorial\"]\n",
        "for i in x:\n",
        "  print(i)"
      ],
      "metadata": {
        "colab": {
          "base_uri": "https://localhost:8080/"
        },
        "id": "EN-afK2Kfejn",
        "outputId": "8212d2cf-0e32-4121-9c7f-5b7c3bb73551"
      },
      "execution_count": 26,
      "outputs": [
        {
          "output_type": "stream",
          "name": "stdout",
          "text": [
            "python\n",
            "PWskills\n",
            "Tutorial\n"
          ]
        }
      ]
    },
    {
      "cell_type": "code",
      "source": [
        "#While Loops:- The while loop is used to execute a set of statements as long as a condition is true.\n",
        "x = 1\n",
        "while x<10:\n",
        "  print(x)\n",
        "  x = x+1"
      ],
      "metadata": {
        "colab": {
          "base_uri": "https://localhost:8080/"
        },
        "id": "xcyyMjtwf9Ve",
        "outputId": "e151dc89-685d-4025-e2f3-2ed6ad3caa86"
      },
      "execution_count": 27,
      "outputs": [
        {
          "output_type": "stream",
          "name": "stdout",
          "text": [
            "1\n",
            "2\n",
            "3\n",
            "4\n",
            "5\n",
            "6\n",
            "7\n",
            "8\n",
            "9\n"
          ]
        }
      ]
    },
    {
      "cell_type": "markdown",
      "source": [],
      "metadata": {
        "id": "ekh1sCKRWHRj"
      }
    }
  ]
}